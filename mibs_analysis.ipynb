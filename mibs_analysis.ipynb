{
 "cells": [
  {
   "cell_type": "code",
   "execution_count": 1,
   "metadata": {},
   "outputs": [],
   "source": [
    "import numpy as np\n",
    "import pandas as pd\n",
    "import matplotlib.pyplot as plt\n",
    "import pingouin as pg\n",
    "from scipy import stats\n",
    "pd.options.mode.chained_assignment = None  # default='warn'\n",
    "import warnings\n",
    "warnings.filterwarnings('ignore')"
   ]
  },
  {
   "cell_type": "code",
   "execution_count": 2,
   "metadata": {},
   "outputs": [],
   "source": [
    "# preparing the data\n",
    "\n",
    "DF = pd.read_excel('mibs_data.xlsx')\n",
    "DF = DF.dropna(axis=1, how='all')\n",
    "DF = DF.drop(columns = ['Start time', 'Completion time', 'Email', 'ID'])\n",
    "\n",
    "DF.to_excel('mibs_ready.xlsx')\n",
    "\n",
    "columns_to_be = ['uczelnia', 'kierunek', 'znajomosc','wazne_stanowiska',\n",
    "                 'zwiazek_partnerski', 'zwiazek_malzenski', 'dzieci', 'nadmiernie', 'przemoc', \n",
    "                 'wydzwiek', 'kosciol', 'politycy', 'edukacja', 'zamieszkanie', 'płec']\n",
    "\n",
    "DF.columns = columns_to_be"
   ]
  },
  {
   "cell_type": "code",
   "execution_count": 3,
   "metadata": {},
   "outputs": [],
   "source": [
    "# changing values based on Likert scale\n",
    "\n",
    "pozytywne = {'Zdecydowanie się zgadzam': 5, 'Raczej się zgadzam': 4, 'Nie mam zdania na ten temat': 3, 'Raczej się nie zgadzam': 2, 'Zdecydowanie się nie zgadzam': 1, 'Nie wiem / trudno powiedzieć': None}\n",
    "\n",
    "negatywne = {'Zdecydowanie się zgadzam': 1, 'Raczej się zgadzam': 2, 'Nie mam zdania na ten temat': 3, 'Raczej się nie zgadzam': 4, 'Zdecydowanie się nie zgadzam': 5, 'Nie wiem / trudno powiedzieć': None}\n",
    "\n",
    "pozytywne_kolumny = ['wazne_stanowiska', 'zwiazek_partnerski', 'zwiazek_malzenski', 'dzieci', 'przemoc', \n",
    "                     'wydzwiek', 'kosciol', 'politycy']\n",
    "\n",
    "negatywne_kolumny = ['nadmiernie', 'edukacja']\n",
    "\n",
    "kolumny = pozytywne_kolumny + negatywne_kolumny\n",
    "\n",
    "DF[pozytywne_kolumny] = DF[pozytywne_kolumny].replace(pozytywne)\n",
    "DF[negatywne_kolumny] = DF[negatywne_kolumny].replace(negatywne)"
   ]
  },
  {
   "cell_type": "code",
   "execution_count": 4,
   "metadata": {},
   "outputs": [],
   "source": [
    "# unifying names of subjects respondents\n",
    "\n",
    "DF['kierunek'] = DF['kierunek'].replace('[Ss][Oo][Cc]\\w+', 'Socjologia', regex=True)\n",
    "DF['kierunek'] = DF['kierunek'].replace('[Ff][Ii][Zz]\\w+ \\w+', 'Fizyka', regex=True)"
   ]
  },
  {
   "cell_type": "code",
   "execution_count": 5,
   "metadata": {},
   "outputs": [],
   "source": [
    "# splitting dataframe into two dataframes based on the university of \n",
    "\n",
    "DF_UJ = DF[DF.uczelnia == 'UJ']\n",
    "DF_AGH = DF[DF.uczelnia == 'AGH'] \n",
    "DF_obie = DF[DF.uczelnia == 'obie uczelnie (AGH i UJ) jednocześnie']\n",
    "DF_UJ = DF_UJ.append(DF_obie)\n",
    "DF_AGH = DF_AGH.append(DF_obie)"
   ]
  },
  {
   "cell_type": "code",
   "execution_count": 6,
   "metadata": {},
   "outputs": [
    {
     "data": {
      "text/plain": [
       "wazne_stanowiska      0.394426\n",
       "zwiazek_partnerski    0.448970\n",
       "zwiazek_malzenski     1.411593\n",
       "dzieci                1.933062\n",
       "nadmiernie            1.490911\n",
       "przemoc               0.900601\n",
       "wydzwiek              0.845373\n",
       "kosciol               0.934715\n",
       "politycy              0.804295\n",
       "edukacja              1.390545\n",
       "dtype: float64"
      ]
     },
     "execution_count": 6,
     "metadata": {},
     "output_type": "execute_result"
    }
   ],
   "source": [
    "# calculating variance\n",
    "\n",
    "DF.var()"
   ]
  },
  {
   "cell_type": "code",
   "execution_count": 7,
   "metadata": {},
   "outputs": [
    {
     "data": {
      "text/plain": [
       "0.8619463790996349"
      ]
     },
     "execution_count": 7,
     "metadata": {},
     "output_type": "execute_result"
    }
   ],
   "source": [
    "# calculating Cronbach's alpha \"manually\"\n",
    "\n",
    "column_values = DF.corr().values.ravel()\n",
    "corr_list = pd.unique(column_values)[1:]\n",
    "alpha = 10*corr_list.mean() / (1+9*corr_list.mean())\n",
    "alpha"
   ]
  },
  {
   "cell_type": "code",
   "execution_count": 8,
   "metadata": {},
   "outputs": [],
   "source": [
    "DF[pozytywne_kolumny+negatywne_kolumny] = DF[pozytywne_kolumny+negatywne_kolumny].astype(float)"
   ]
  },
  {
   "cell_type": "code",
   "execution_count": 9,
   "metadata": {},
   "outputs": [
    {
     "data": {
      "text/plain": [
       "(0.8651719195942916, array([0.826, 0.898]))"
      ]
     },
     "execution_count": 9,
     "metadata": {},
     "output_type": "execute_result"
    }
   ],
   "source": [
    "# calculating Cronbach's alpha using a built-in function\n",
    "\n",
    "pg.cronbach_alpha(data = DF[pozytywne_kolumny+negatywne_kolumny])"
   ]
  },
  {
   "cell_type": "code",
   "execution_count": 10,
   "metadata": {},
   "outputs": [
    {
     "data": {
      "text/plain": [
       "5.0    60\n",
       "4.0    15\n",
       "3.0    14\n",
       "1.0    11\n",
       "2.0     9\n",
       "Name: dzieci, dtype: int64"
      ]
     },
     "execution_count": 10,
     "metadata": {},
     "output_type": "execute_result"
    }
   ],
   "source": [
    "DF['dzieci'].value_counts()"
   ]
  },
  {
   "cell_type": "code",
   "execution_count": 11,
   "metadata": {},
   "outputs": [
    {
     "data": {
      "text/plain": [
       "Ttest_indResult(statistic=-3.2158926240904586, pvalue=0.0017118083403349347)"
      ]
     },
     "execution_count": 11,
     "metadata": {},
     "output_type": "execute_result"
    }
   ],
   "source": [
    "# performing t-tests to check if dataframes are statistically different \n",
    "\n",
    "test = stats.ttest_ind(DF_AGH['dzieci'], DF_UJ['dzieci'], nan_policy = 'omit')\n",
    "test"
   ]
  },
  {
   "cell_type": "code",
   "execution_count": 12,
   "metadata": {},
   "outputs": [
    {
     "data": {
      "text/plain": [
       "Ttest_indResult(statistic=-1.2311903862078466, pvalue=0.22076363459568124)"
      ]
     },
     "execution_count": 12,
     "metadata": {},
     "output_type": "execute_result"
    }
   ],
   "source": [
    "test = stats.ttest_ind(DF_AGH['zwiazek_partnerski'], DF_UJ['zwiazek_partnerski'], nan_policy = 'omit')\n",
    "test"
   ]
  },
  {
   "cell_type": "code",
   "execution_count": 13,
   "metadata": {},
   "outputs": [
    {
     "data": {
      "text/plain": [
       "Ttest_indResult(statistic=-3.010781216243772, pvalue=0.0032037231493689303)"
      ]
     },
     "execution_count": 13,
     "metadata": {},
     "output_type": "execute_result"
    }
   ],
   "source": [
    "test = stats.ttest_ind(DF_AGH.sum(axis=1), DF_UJ.sum(axis=1))\n",
    "test"
   ]
  },
  {
   "cell_type": "code",
   "execution_count": 14,
   "metadata": {},
   "outputs": [],
   "source": [
    "# saving ready file\n",
    "\n",
    "DF.to_excel('gotowe.xlsx')"
   ]
  },
  {
   "cell_type": "code",
   "execution_count": 15,
   "metadata": {},
   "outputs": [],
   "source": [
    "# preparing data for plotting\n",
    "\n",
    "DF_AGH['suma'] = DF_AGH.sum(axis=1)\n",
    "a = DF_AGH['suma'].value_counts()\n",
    "a = dict(a)\n",
    "\n",
    "DF_UJ['suma'] = DF_UJ.sum(axis=1)\n",
    "b = DF_UJ['suma'].value_counts()\n",
    "b = dict(b)\n",
    "\n",
    "list_x1 = np.array([int(i) for i in a.keys()]) - 0.35/2\n",
    "list_x2 = np.array([int(i) for i in b.keys()]) + 0.35/2\n",
    "list_y1 = np.array([int(i) for i in a.values()]) \n",
    "list_y2 = np.array([int(i) for i in b.values()]) "
   ]
  },
  {
   "cell_type": "code",
   "execution_count": 16,
   "metadata": {},
   "outputs": [
    {
     "data": {
      "image/png": "[encoded data removed]",
      "text/plain": [
       "<Figure size 1296x720 with 1 Axes>"
      ]
     },
     "metadata": {
      "needs_background": "light"
     },
     "output_type": "display_data"
    }
   ],
   "source": [
    "# plotting\n",
    "\n",
    "fig, ax = plt.subplots()\n",
    "plt.rcParams.update({'font.size': 20})\n",
    "fig.set_size_inches(18, 10)\n",
    "width = 0.35\n",
    "rects1 = ax.bar(list_x1, list_y1, width, label='AGH')\n",
    "rects2 = ax.bar(list_x2, list_y2, width, label='UJ')\n",
    "ax.set_xlabel('Liczba punktów')\n",
    "ax.set_ylabel('Liczba studentów/ek')\n",
    "ax.set_title('Suma odpowiedzi studentów/ek z podziałem na uczelnie')\n",
    "ax.legend()\n",
    "\n",
    "ax.bar_label(rects1, padding=3)\n",
    "ax.bar_label(rects2, padding=3)\n",
    "\n",
    "fig.tight_layout()\n",
    "plt.savefig('suma.png', dpi=300)"
   ]
  },
  {
   "cell_type": "code",
   "execution_count": 17,
   "metadata": {},
   "outputs": [],
   "source": [
    "# preparing data for plotting\n",
    "\n",
    "DF_baby = DF[DF.płec == 'Kobieta']\n",
    "DF_faceci = DF[DF.płec == 'Mężczyzna'] \n",
    "DF_faceci['suma'] = DF_faceci.sum(axis=1)\n",
    "DF_baby['suma'] = DF_baby.sum(axis=1)\n",
    "a = DF_faceci['suma'].value_counts()\n",
    "b = DF_baby['suma'].value_counts()\n",
    "a = dict(a)\n",
    "b = dict(b)\n",
    "\n",
    "list_x1 = np.array([int(i) for i in a.keys()]) - 0.35/2\n",
    "list_x2 = np.array([int(i) for i in b.keys()]) + 0.35/2\n",
    "list_y1 = np.array([int(i) for i in a.values()]) \n",
    "list_y2 = np.array([int(i) for i in b.values()]) "
   ]
  },
  {
   "cell_type": "code",
   "execution_count": 18,
   "metadata": {},
   "outputs": [
    {
     "data": {
      "image/png": "[encoded data removed]",
      "text/plain": [
       "<Figure size 1296x720 with 1 Axes>"
      ]
     },
     "metadata": {
      "needs_background": "light"
     },
     "output_type": "display_data"
    }
   ],
   "source": [
    "# plotting\n",
    "\n",
    "fig, ax = plt.subplots()\n",
    "plt.rcParams.update({'font.size': 20})\n",
    "fig.set_size_inches(18, 10)\n",
    "width = 0.35\n",
    "rects1 = ax.bar(list_x1, list_y1, width, label='mężczyźni')\n",
    "rects2 = ax.bar(list_x2, list_y2, width, label='kobiety')\n",
    "ax.set_xlabel('Liczba punktów')\n",
    "ax.set_ylabel('Liczba studentów/ek')\n",
    "ax.set_title('Suma odpowiedzi studentów/ek z podziałem na płeć')\n",
    "ax.legend()\n",
    "\n",
    "ax.bar_label(rects1, padding=3)\n",
    "ax.bar_label(rects2, padding=3)\n",
    "\n",
    "fig.tight_layout()\n",
    "plt.savefig('plec.png', dpi=300)"
   ]
  },
  {
   "cell_type": "code",
   "execution_count": 19,
   "metadata": {},
   "outputs": [
    {
     "data": {
      "text/plain": [
       "wazne_stanowiska       0.547264\n",
       "zwiazek_partnerski     0.491180\n",
       "zwiazek_malzenski      1.790067\n",
       "dzieci                 2.279514\n",
       "nadmiernie             1.459068\n",
       "przemoc                1.206760\n",
       "wydzwiek               0.899260\n",
       "kosciol                1.124476\n",
       "politycy               0.942212\n",
       "edukacja               1.688811\n",
       "suma                  54.601085\n",
       "dtype: float64"
      ]
     },
     "execution_count": 19,
     "metadata": {},
     "output_type": "execute_result"
    }
   ],
   "source": [
    "# calculating variance of AGH dataframe\n",
    "\n",
    "DF_AGH.var()"
   ]
  },
  {
   "cell_type": "code",
   "execution_count": 20,
   "metadata": {},
   "outputs": [
    {
     "data": {
      "text/plain": [
       "wazne_stanowiska       0.118197\n",
       "zwiazek_partnerski     0.382041\n",
       "zwiazek_malzenski      0.636525\n",
       "dzieci                 1.115634\n",
       "nadmiernie             1.291397\n",
       "przemoc                0.541667\n",
       "wydzwiek               0.931401\n",
       "kosciol                0.989388\n",
       "politycy               0.702449\n",
       "edukacja               0.782041\n",
       "suma                  35.020408\n",
       "dtype: float64"
      ]
     },
     "execution_count": 20,
     "metadata": {},
     "output_type": "execute_result"
    }
   ],
   "source": [
    "# calculating variance of UJ dataframe\n",
    "\n",
    "DF_UJ.var()"
   ]
  }
 ],
 "metadata": {
  "kernelspec": {
   "display_name": "Python 3 (ipykernel)",
   "language": "python",
   "name": "python3"
  },
  "language_info": {
   "codemirror_mode": {
    "name": "ipython",
    "version": 3
   },
   "file_extension": ".py",
   "mimetype": "text/x-python",
   "name": "python",
   "nbconvert_exporter": "python",
   "pygments_lexer": "ipython3",
   "version": "3.8.13"
  }
 },
 "nbformat": 4,
 "nbformat_minor": 4
}
